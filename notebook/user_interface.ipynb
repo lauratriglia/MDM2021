{
 "cells": [
  {
   "cell_type": "markdown",
   "id": "959a555e",
   "metadata": {},
   "source": [
    "# Rt2_assignment2"
   ]
  },
  {
   "cell_type": "markdown",
   "id": "9d45a810",
   "metadata": {},
   "source": [
    "# Code"
   ]
  },
  {
   "cell_type": "code",
   "execution_count": 1,
   "id": "75b701bc",
   "metadata": {},
   "outputs": [],
   "source": [
    "import rospy\n",
    "import time\n",
    "import jupyros as jr\n",
    "import matplotlib\n",
    "import matplotlib.pyplot as plt\n",
    "plt.style.use('ggplot')\n",
    "import numpy as np \n",
    "import math\n",
    "import actionlib\n",
    "import actionlib.msg\n",
    "import ipywidgets as widgets\n",
    "from rt2_assignment1.srv import Command, SetVel\n",
    "from geometry_msgs.msg import Twist\n",
    "from nav_msgs.msg import Odometry\n",
    "\n",
    "\n",
    "%matplotlib widget\n",
    "from matplotlib.animation import FuncAnimation\n",
    "from matplotlib import animation, rc\n",
    "from std_msgs.msg import String, Float64, Bool, Float32\n",
    "from IPython.display import display\n",
    "from ipywidgets import Button, GridBox, Layout, ButtonStyle, FloatSlider, HBox, VBox\n",
    "from tf import transformations\n"
   ]
  },
  {
   "cell_type": "markdown",
   "id": "61908134",
   "metadata": {},
   "source": [
    "## Classes"
   ]
  },
  {
   "cell_type": "markdown",
   "id": "14df9d81",
   "metadata": {},
   "source": [
    "### ListLim"
   ]
  },
  {
   "cell_type": "code",
   "execution_count": 2,
   "id": "f659b7f5",
   "metadata": {},
   "outputs": [],
   "source": [
    "class ListLim(list):\n",
    "    def __init__(self, max_size, l=[]):\n",
    "        super().__init__(l)\n",
    "        self.max_size = max_size\n",
    "    def append(self, data):\n",
    "        super().append(data)\n",
    "        if super().__len__() > self.max_size:\n",
    "            super().pop(0)"
   ]
  },
  {
   "cell_type": "markdown",
   "id": "1999ce83",
   "metadata": {},
   "source": [
    "### Direction Pad"
   ]
  },
  {
   "cell_type": "code",
   "execution_count": 3,
   "id": "7730c6ee",
   "metadata": {},
   "outputs": [],
   "source": [
    "class DirectionPad:\n",
    "    def __init__(self, lin_slider, ang_slider):\n",
    "        self.vel_pub = rospy.Publisher('/cmd_vel', Twist, queue_size=1)\n",
    "        self.twist = Twist()\n",
    "        self.go_on_mov = 0.0\n",
    "        self.ang_mov = 0.0\n",
    "        self.lin_slider = lin_slider\n",
    "        self.ang_slider = ang_slider\n",
    "    \n",
    "    def goForward(self):\n",
    "        self.go_on_mov = 1.0\n",
    "        self.ang_mov = 0.0\n",
    "    def goBackward(self):\n",
    "        self.go_on_mov = -1.0\n",
    "        self.ang_mov = 0.0\n",
    "    def turnRight(self):\n",
    "        self.go_on_mov = 0.0\n",
    "        self.ang_mov = 1.0\n",
    "    def turnLeft(self):\n",
    "        self.go_on_mov = 0.0\n",
    "        self.ang_mov = -1.0\n",
    "    def stopping(self):\n",
    "        self.go_on_mov = 0.0\n",
    "        self.ang_mov = 0.0\n",
    "    \n",
    "    def pubTwist(self):\n",
    "        self.twist.linear.x = self.go_on_mov*lin_slider.value\n",
    "        self.twist.linear.z = self.ang_mov*ang_slider.value\n",
    "        \n",
    "        self.vel_pub.publish(self.twist)"
   ]
  },
  {
   "cell_type": "markdown",
   "id": "ece98daa",
   "metadata": {},
   "source": [
    "## Global variables"
   ]
  },
  {
   "cell_type": "code",
   "execution_count": 4,
   "id": "45ff6753",
   "metadata": {},
   "outputs": [],
   "source": [
    "output = widgets.Output()\n",
    "\n",
    "lin_init = 0.6\n",
    "ang_init = 0.6\n",
    "\n",
    "rob_odom_max_leng = 2000\n",
    "rob_odom_x = ListLim(rob_odom_max_leng)\n",
    "rob_odom_y = ListLim(rob_odom_max_leng)\n",
    "rob_odom_rot = 0\n",
    "\n",
    "vel_max_len = 200\n",
    "vel_x_sim = ListLim(vel_max_len, [lin_init]*vel_max_len)\n",
    "vel_x_odom = ListLim(vel_max_len, [0]*vel_max_len)\n",
    "vel_w_sim = ListLim(vel_max_len, [ang_init]*vel_max_len)\n",
    "vel_w_odom = ListLim(vel_max_len, [0]*vel_max_len)\n",
    "\n",
    "t = np.linspace(0,1,vel_max_len)\n",
    "\n",
    "reached = 0\n",
    "cancelled = 0\n",
    "status = [0,0]\n",
    "time_to_reach = []\n",
    "\n",
    "from enum import Enum\n",
    "\n",
    "class Running(Enum):\n",
    "    STOP = 0\n",
    "    GO = 1\n",
    "    PAD = 2\n",
    "running = Running.STOP\n",
    "\n",
    "vel_client = None\n",
    "ui_client = None"
   ]
  },
  {
   "cell_type": "markdown",
   "id": "209fbd78",
   "metadata": {},
   "source": [
    "## Widgets"
   ]
  },
  {
   "cell_type": "markdown",
   "id": "8fd69b4f",
   "metadata": {},
   "source": [
    "### Sliders"
   ]
  },
  {
   "cell_type": "code",
   "execution_count": 5,
   "id": "5bd639fd",
   "metadata": {},
   "outputs": [],
   "source": [
    "max_vel = 1.6\n",
    "lin_slider = FloatSlider(description='Linear Velocity', value=lin_init, min=0.1, max=max_vel, step=0.02)\n",
    "ang_slider = FloatSlider(description='Angular Velocity', value=ang_init, min=0.1, max=max_vel, step=0.02)\n",
    "\n",
    "v1=VBox([lin_slider, ang_slider])\n",
    "def lin_vel_change(vel):\n",
    "    vel_client(vel[\"new\"], vel_w_sim[-1])\n",
    "\n",
    "def ang_vel_change(vel):\n",
    "    vel_client(vel_x_sim[-1], vel[\"new\"])\n",
    "    \n",
    "lin_slider.observe(lin_vel_change, names='value')\n",
    "ang_slider.observe(ang_vel_change, names='value')"
   ]
  },
  {
   "cell_type": "markdown",
   "id": "6564e098",
   "metadata": {},
   "source": [
    "### Buttons"
   ]
  },
  {
   "cell_type": "code",
   "execution_count": 6,
   "id": "c9ce5763",
   "metadata": {},
   "outputs": [],
   "source": [
    "up_Button = Button(description='\\u2191', \n",
    "                  layout=Layout(width='auto', grid_area='up'),\n",
    "                  style=ButtonStyle(button_color='lightblue'))\n",
    "down_Button = Button(description='\\u2193',\n",
    "                  layout=Layout(width='auto', grid_area='down'),\n",
    "                  style=ButtonStyle(button_color='lightblue'))\n",
    "right_Button = Button(description='\\u2192', \n",
    "                  layout=Layout(width='auto', grid_area='right'),\n",
    "                  style=ButtonStyle(button_color='lightblue'))\n",
    "left_Button = Button(description='\\u2190', \n",
    "                  layout=Layout(width='auto', grid_area='left'),\n",
    "                  style=ButtonStyle(button_color='lightblue'))\n",
    "\n",
    "\n",
    "gb = GridBox(children=[up_Button, down_Button, right_Button, left_Button],\n",
    "        layout=Layout(\n",
    "            width='100%',\n",
    "            grid_template_rows='auto auto',\n",
    "            grid_template_columns='33% 33% 33%',\n",
    "            grid_template_areas='''\n",
    "            \". up .\"\n",
    "            \"left down right\"\n",
    "            ''')\n",
    "        )"
   ]
  },
  {
   "cell_type": "code",
   "execution_count": 7,
   "id": "eae132d2",
   "metadata": {},
   "outputs": [],
   "source": [
    "start_Button = Button(description='START', layout=Layout(width='100%',grid_area='start'),\n",
    "                  style=ButtonStyle(button_color='lightblue'))\n",
    "stop_Button = Button(description='STOP', layout=Layout(width='100%',grid_area='stop'),\n",
    "                  style=ButtonStyle(button_color='lightblue'))\n",
    "h1=HBox([start_Button,stop_Button])\n",
    "\n",
    "g_all = GridBox(children=[v1, h1, gb],\n",
    "            layout=Layout(\n",
    "                width='100%',\n",
    "                grid_template_row='auto auto',\n",
    "                grid_template_columns='33% 40% 27%',\n",
    "                grid_templates_areas='''\n",
    "                \"v1 . gb\"\n",
    "                \" . h1 .\"\n",
    "                ''')\n",
    "            )"
   ]
  },
  {
   "cell_type": "markdown",
   "id": "89dc5536",
   "metadata": {},
   "source": [
    "## Functions"
   ]
  },
  {
   "cell_type": "code",
   "execution_count": 8,
   "id": "9b215086",
   "metadata": {},
   "outputs": [],
   "source": [
    "dir_pad = DirectionPad(lin_slider, ang_slider)\n",
    "\n",
    "def start_gotopoint(b):\n",
    "    global running\n",
    "    if running != Running.GO:\n",
    "        ui_client(\"start\")\n",
    "        running = Running.GO\n",
    "\n",
    "def stop_motion(b):\n",
    "    global running\n",
    "    if running == Running.GO:\n",
    "        ui_client(\"stop\")\n",
    "    elif running == Running.PAD:\n",
    "        dir_pad.stop()\n",
    "        dir_pad.pubTwist()\n",
    "        \n",
    "    running = Running.STOP\n",
    "\n",
    "def  directionalButton(b):\n",
    "    global running\n",
    "    if running == Running.GO:\n",
    "        stop_motion(b)\n",
    "    if b.layout.grid_area == 'up':\n",
    "        dir_pad.goForward()\n",
    "    elif b.layout.grid_area == 'down':\n",
    "        dir_pad.goBackward()\n",
    "    elif b.layout.grid_area == 'right':\n",
    "        dir_pad.turnRight()\n",
    "    elif b.layout.grid_area == 'left':\n",
    "        dir_pad.turnLeft()\n",
    "    else:\n",
    "        return \n",
    "\n",
    "    running = Running.PAD\n",
    "\n",
    "def odomFunction(msg):\n",
    "    global rob_odom_rot, rob_odom_x, rob_odom_y\n",
    "    \n",
    "    global running\n",
    "    rob_odom_x.append(msg.pose.pose.position.x)\n",
    "    rob_odom_y.append(msg.pose.pose.position.y)\n",
    "    \n",
    "    quaternion = (\n",
    "        msg.pose.pose.orientation.x,\n",
    "        msg.pose.pose.orientation.y,\n",
    "        msg.pose.pose.orientation.z,\n",
    "        msg.pose.pose.orientation.w)\n",
    "    euler = transformations.euler_from_quaternion(quaternion)\n",
    "    rob_odom_rot = euler[2]\n",
    "    \n",
    "    vel_x_sim.append(lin_slider.value)\n",
    "    vel_x_odom.append(msg.twist.twist.linear.x)\n",
    "    \n",
    "    vel_w_sim.append(ang_slider.value)\n",
    "    vel_w_odom.append(msg.twist.twist.angular.x)\n",
    "    \n",
    "    if running == Running.PAD:\n",
    "        dir_pad.pubTwist()\n",
    "\n",
    "def reach_function(msg):\n",
    "    global reached, cancelled, status\n",
    "    if msg.data:\n",
    "        reached+=1\n",
    "    else:\n",
    "        cancelled+=1\n",
    "    status=[reached, cancelled]\n",
    "    \n",
    "def ttr_function(msg):\n",
    "    global time_to_reach\n",
    "    time_to_reach.append(msg.data)"
   ]
  },
  {
   "cell_type": "markdown",
   "id": "d47f73b5",
   "metadata": {},
   "source": [
    "### Buttons binding"
   ]
  },
  {
   "cell_type": "code",
   "execution_count": 9,
   "id": "d8e03aab",
   "metadata": {},
   "outputs": [],
   "source": [
    "start_Button.on_click(start_gotopoint)\n",
    "stop_Button.on_click(stop_motion)\n",
    "up_Button.on_click(directionalButton)\n",
    "down_Button.on_click(directionalButton)\n",
    "left_Button.on_click(directionalButton)\n",
    "right_Button.on_click(directionalButton)"
   ]
  },
  {
   "cell_type": "markdown",
   "id": "cce00562",
   "metadata": {},
   "source": [
    "## Ros node start"
   ]
  },
  {
   "cell_type": "code",
   "execution_count": 10,
   "id": "609061e9",
   "metadata": {},
   "outputs": [],
   "source": [
    "rospy.init_node(\"jupyter_interface\")\n",
    "\n",
    "sub = rospy.Subscriber('/odom', Odometry, odomFunction)\n",
    "\n",
    "rospy.wait_for_service('/user_interface')\n",
    "ui_client = rospy.ServiceProxy('/user_interface', Command)\n",
    "rospy.wait_for_service('/set_vel')\n",
    "vel_client = rospy.ServiceProxy('/set_vel', SetVel)"
   ]
  },
  {
   "cell_type": "markdown",
   "id": "31deee65",
   "metadata": {},
   "source": [
    "## Control panel"
   ]
  },
  {
   "cell_type": "code",
   "execution_count": 21,
   "id": "5207c35e",
   "metadata": {},
   "outputs": [
    {
     "data": {
      "application/vnd.jupyter.widget-view+json": {
       "model_id": "4c729bbb7fee4ea29176be6256615575",
       "version_major": 2,
       "version_minor": 0
      },
      "text/plain": [
       "GridBox(children=(VBox(children=(FloatSlider(value=0.6, description='Linear Velocity', max=1.6, min=0.1, step=…"
      ]
     },
     "metadata": {},
     "output_type": "display_data"
    },
    {
     "data": {
      "application/vnd.jupyter.widget-view+json": {
       "model_id": "30c7cad04205478db196d62e3327e877",
       "version_major": 2,
       "version_minor": 0
      },
      "text/plain": [
       "Output()"
      ]
     },
     "metadata": {},
     "output_type": "display_data"
    }
   ],
   "source": [
    "display(g_all)\n",
    "output"
   ]
  },
  {
   "cell_type": "markdown",
   "id": "8e112dc5",
   "metadata": {},
   "source": [
    "# Plots"
   ]
  },
  {
   "cell_type": "markdown",
   "id": "181f3770",
   "metadata": {},
   "source": [
    "## Position and orientation"
   ]
  },
  {
   "cell_type": "code",
   "execution_count": 27,
   "id": "47687611",
   "metadata": {},
   "outputs": [
    {
     "data": {
      "application/vnd.jupyter.widget-view+json": {
       "model_id": "a5d97ebeaa7746cda6e89206f890f71f",
       "version_major": 2,
       "version_minor": 0
      },
      "text/plain": [
       "Canvas(toolbar=Toolbar(toolitems=[('Home', 'Reset original view', 'home', 'home'), ('Back', 'Back to previous …"
      ]
     },
     "metadata": {},
     "output_type": "display_data"
    }
   ],
   "source": [
    "fig, ax = plt.subplots()\n",
    "\n",
    "ax.set_xlim((-5.2, 5.2))\n",
    "ax.set_ylim((-5.2, 5.2))\n",
    "\n",
    "odom_plt, = ax.plot([], [], 'r-')\n",
    "arrw_plt, = ax.plot([], [], 'g-.', linewidth=2.5)\n",
    "arrw_len_ = 0.7\n",
    "\n",
    "ax.set_title(\"Robot odometry pose\")\n",
    "ax.set_xlabel(\"X\")\n",
    "ax.set_ylabel(\"Y\")\n",
    "\n",
    "def init():\n",
    "    odom_plt.set_data([], [])\n",
    "    arrw_plt.set_data([], [])\n",
    "    return (odom_plt, arrw_plt)\n",
    "\n",
    "def animate(i):\n",
    "    odom_plt.set_data(rob_odom_x, rob_odom_y)\n",
    "    n_x = rob_odom_x[-1] + math.cos(rob_odom_rot)*arrw_len_\n",
    "    n_y = rob_odom_y[-1] + math.sin(rob_odom_rot)*arrw_len_\n",
    "    \n",
    "    arrw_plt.set_data((rob_odom_x[-1], n_x), (rob_odom_y[-1], n_y))\n",
    "    \n",
    "    return (odom_plt, arrw_plt)\n",
    "\n",
    "anim = animation.FuncAnimation(fig, animate, init_func = init, frames=50, interval=20, blit=True)"
   ]
  },
  {
   "cell_type": "markdown",
   "id": "160575d3",
   "metadata": {},
   "source": [
    "## Velocities"
   ]
  },
  {
   "cell_type": "code",
   "execution_count": 23,
   "id": "c86b5877",
   "metadata": {},
   "outputs": [
    {
     "data": {
      "application/vnd.jupyter.widget-view+json": {
       "model_id": "c98a7e6e4c524dfc98b2ea1a749d0bb7",
       "version_major": 2,
       "version_minor": 0
      },
      "text/plain": [
       "Canvas(toolbar=Toolbar(toolitems=[('Home', 'Reset original view', 'home', 'home'), ('Back', 'Back to previous …"
      ]
     },
     "metadata": {},
     "output_type": "display_data"
    }
   ],
   "source": [
    "fig_vel, axs = plt.subplots(nrows=2)\n",
    "\n",
    "ax0, ax1 = axs.flatten()\n",
    "ax0.set_title(\"Linear velocity\")\n",
    "ax0.set_ylim(0.0, max_vel)\n",
    "ax0.set_xticks([])\n",
    "\n",
    "vel_x_plt_sim, = ax0.plot([], [], 'r', label='max linear velocity')\n",
    "vel_x_plt_odm, = ax0.plot([], [], 'g', label='current linear velocity', linewidth=2.0)\n",
    "\n",
    "ax1.set_title(\"Angular velocity\")\n",
    "ax1.set_ylim(0.0, max_vel)\n",
    "ax1.set_xticks([])\n",
    "\n",
    "vel_w_plt_sim, = ax1.plot([], [], 'r', label='max angular velocity')\n",
    "vel_w_plt_odm, = ax1.plot([], [], 'g', label='current angular velocity', linewidth=2.0)\n",
    "\n",
    "\n",
    "def init_vel():\n",
    "    vel_x_plt_sim.set_data([], [])\n",
    "    vel_x_plt_odm.set_data([], [])\n",
    "    \n",
    "    vel_w_plt_sim.set_data([], [])\n",
    "    vel_w_plt_odm.set_data([], [])\n",
    "    return (vel_x_plt_sim, vel_x_plt_odm, vel_w_plt_sim, vel_w_plt_odm)\n",
    "\n",
    "def animate_vel(i):\n",
    "    vel_x_plt_sim.set_data(t, vel_x_sim)\n",
    "    vel_x_plt_odm.set_data(t, vel_x_odom)\n",
    "    \n",
    "    vel_w_plt_sim.set_data(t, vel_w_sim)\n",
    "    vel_w_plt_odm.set_data(t, vel_w_odom)\n",
    "    \n",
    "    return (vel_x_plt_sim, vel_x_plt_odm, vel_w_plt_sim, vel_w_plt_odm)\n",
    "\n",
    "anim_vel = animation.FuncAnimation(fig_vel, animate_vel, init_func = init_vel, frames=100, interval=20, blit=True)\n",
    "\n"
   ]
  },
  {
   "cell_type": "markdown",
   "id": "40c2c694",
   "metadata": {},
   "source": [
    "## Reached vs Cancelled"
   ]
  },
  {
   "cell_type": "code",
   "execution_count": 25,
   "id": "74135412",
   "metadata": {},
   "outputs": [
    {
     "data": {
      "application/vnd.jupyter.widget-view+json": {
       "model_id": "6cc4772cec4d43b487c1be3af825c164",
       "version_major": 2,
       "version_minor": 0
      },
      "text/plain": [
       "Canvas(toolbar=Toolbar(toolitems=[('Home', 'Reset original view', 'home', 'home'), ('Back', 'Back to previous …"
      ]
     },
     "metadata": {},
     "output_type": "display_data"
    }
   ],
   "source": [
    "\n",
    "\n",
    "# setting the figure properties\n",
    "fig3,ax3 = plt.subplots()\n",
    "legend = ['reached', 'cancelled']\n",
    "ax3.bar(legend,status,color = 'r', width = 0.5)\n",
    "ax3.set_title(\"Reached and Cancelled goal\")\n",
    "\n",
    "# function called to initialize the plot\n",
    "def init3():\n",
    "    ax3.bar(legend,stats,color = 'r', width = 0.5)\n",
    "\n",
    "# function called to update periodically the plot\n",
    "def animate3(i):\n",
    "    global stats, ax3\n",
    "    ax3.bar(legend,stats,color = 'r', width = 0.5)\n",
    "    \n",
    "ani3=animation.FuncAnimation(fig3, animate3, init_func=init3, frames=100, interval=100, blit=True)\n",
    "\n",
    "\n"
   ]
  },
  {
   "cell_type": "markdown",
   "id": "7ac433c1",
   "metadata": {},
   "source": [
    "## Time to reach"
   ]
  },
  {
   "cell_type": "code",
   "execution_count": 26,
   "id": "b3556775",
   "metadata": {},
   "outputs": [
    {
     "data": {
      "application/vnd.jupyter.widget-view+json": {
       "model_id": "dc04fc8b3a3540388eb964a8fafbccd2",
       "version_major": 2,
       "version_minor": 0
      },
      "text/plain": [
       "Canvas(toolbar=Toolbar(toolitems=[('Home', 'Reset original view', 'home', 'home'), ('Back', 'Back to previous …"
      ]
     },
     "metadata": {},
     "output_type": "display_data"
    }
   ],
   "source": [
    "\n",
    "\n",
    "# setting the figure properties\n",
    "fig4,ax4= plt.subplots()\n",
    "ax4.hist(time_to_reach, 10, label='time to reach goal', color='red',lw=10)\n",
    "ax4.legend()\n",
    "ax4.set_title(\"Time to reach Goal\")\n",
    "ax4.set_xlabel('time (s)')\n",
    "\n",
    "# function called to initialize the plot\n",
    "def init4():\n",
    "    ax4.hist(time_to_reach, 10, label='time to reach goal', color='red',lw=10)\n",
    "\n",
    "# function called to update periodically the plot    \n",
    "def animate4(i):\n",
    "    global time_to_reach, ax4\n",
    "    ax4.hist(time_to_reach,10, color='red',lw=10)\n",
    "    \n",
    "ani4=animation.FuncAnimation(fig4, animate4,init_func=init4, frames=100, interval=100, blit=True)\n",
    "\n"
   ]
  },
  {
   "cell_type": "code",
   "execution_count": null,
   "id": "c13b1280",
   "metadata": {},
   "outputs": [],
   "source": []
  }
 ],
 "metadata": {
  "kernelspec": {
   "display_name": "Python 3 (ipykernel)",
   "language": "python",
   "name": "python3"
  },
  "language_info": {
   "codemirror_mode": {
    "name": "ipython",
    "version": 3
   },
   "file_extension": ".py",
   "mimetype": "text/x-python",
   "name": "python",
   "nbconvert_exporter": "python",
   "pygments_lexer": "ipython3",
   "version": "3.8.5"
  }
 },
 "nbformat": 4,
 "nbformat_minor": 5
}
