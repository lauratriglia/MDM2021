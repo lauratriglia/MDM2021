{
 "cells": [
  {
   "cell_type": "markdown",
   "id": "959a555e",
   "metadata": {},
   "source": [
    "# Rt2_assignment2"
   ]
  },
  {
   "cell_type": "markdown",
   "id": "9d45a810",
   "metadata": {},
   "source": [
    "# Code"
   ]
  },
  {
   "cell_type": "code",
   "execution_count": 1,
   "id": "75b701bc",
   "metadata": {},
   "outputs": [],
   "source": [
    "import rospy\n",
    "import time\n",
    "import jupyros as jr\n",
    "import matplotlib\n",
    "import matplotlib.pyplot as plt\n",
    "import numpy as np \n",
    "import math\n",
    "import actionlib\n",
    "import actionlib.msg\n",
    "import ipywidgets as widgets\n",
    "from rt2_assignment1.srv import Command, SetVel\n",
    "from geometry_msgs.msg import Twist\n",
    "from nav_msgs.msg import Odometry\n",
    "\n",
    "\n",
    "%matplotlib widget\n",
    "from matplotlib.animation import FuncAnimation\n",
    "from matplotlib import animation, rc\n",
    "from std_msgs.msg import String, Float64, Bool, Float32\n",
    "from IPython.display import display\n",
    "from ipywidgets import Button, GridBox, Layout, ButtonStyle, FloatSlider, HBox, VBox\n",
    "from tf import transformations\n"
   ]
  },
  {
   "cell_type": "markdown",
   "id": "61908134",
   "metadata": {},
   "source": [
    "## Classes"
   ]
  },
  {
   "cell_type": "markdown",
   "id": "14df9d81",
   "metadata": {},
   "source": [
    "### ListLim"
   ]
  },
  {
   "cell_type": "code",
   "execution_count": 2,
   "id": "f659b7f5",
   "metadata": {},
   "outputs": [],
   "source": [
    "class ListLim(list):\n",
    "    def __init__(self, max_size, l=[]):\n",
    "        super().__init__(l)\n",
    "        self.max_size = max_size\n",
    "    def append(self, data):\n",
    "        super().append(data)\n",
    "        if super().__len__() > self.max_size:\n",
    "            super().pop(0)"
   ]
  },
  {
   "cell_type": "markdown",
   "id": "1999ce83",
   "metadata": {},
   "source": [
    "### Direction Pad"
   ]
  },
  {
   "cell_type": "code",
   "execution_count": 4,
   "id": "7730c6ee",
   "metadata": {},
   "outputs": [],
   "source": [
    "class DirectionPad:\n",
    "    def __init__(self, lin_slider, ang_slider):\n",
    "        self.vel_pub = rospy.Publisher('/cmd_vel', Twist, queue_size=1)\n",
    "        self.twist = Twist()\n",
    "        self.go_on_mov = 0.0\n",
    "        self.ang_mov = 0.0\n",
    "        self.lin_slider = lin_slider\n",
    "        self.ang_slider = ang_slider\n",
    "    \n",
    "    def goForward(self):\n",
    "        self.go_on_mov = 1.0\n",
    "        self.ang_mov = 0.0\n",
    "    def goBackward(self):\n",
    "        self.go_on_mov = -1.0\n",
    "        self.ang_mov = 0.0\n",
    "    def turnRight(self):\n",
    "        self.go_on_mov = 0.0\n",
    "        self.ang_mov = 1.0\n",
    "    def turnLeft(self):\n",
    "        self.go_on_mov = 0.0\n",
    "        self.ang_mov = -1.0\n",
    "    def stopping(self):\n",
    "        self.go_on_mov = 0.0\n",
    "        self.ang_mov = 0.0\n",
    "    \n",
    "    def pubTwist(self):\n",
    "        self.twist.linear.x = self.go_on_mov*lin_slider.value\n",
    "        self.twist.linear.z = self.ang_mov*ang_slider.value\n",
    "        \n",
    "        self.vel_pub.publish(self.twist)"
   ]
  },
  {
   "cell_type": "markdown",
   "id": "ece98daa",
   "metadata": {},
   "source": [
    "## Global variables"
   ]
  },
  {
   "cell_type": "code",
   "execution_count": 5,
   "id": "45ff6753",
   "metadata": {},
   "outputs": [],
   "source": [
    "output = widgets.Output()\n",
    "\n",
    "lin_init = 0.6\n",
    "ang_init = 0.6\n",
    "\n",
    "rob_odom_max_leng = 2000\n",
    "rob_odom_x = ListLim(rob_odom_max_leng)\n",
    "rob_odom_y = ListLim(rob_odom_max_leng)\n",
    "rob_odom_rot = 0\n",
    "\n",
    "vel_max_len = 200\n",
    "vel_x_sim = ListLim(vel_max_len, [lin_init]*vel_max_len)\n",
    "vel_x_odom = ListLim(vel_max_len, [0]*vel_max_len)\n",
    "vel_w_sim = ListLim(vel_max_len, [ang_init]*vel_max_len)\n",
    "vel_w_odom = ListLim(vel_max_len, [0]*vel_max_len)\n",
    "\n",
    "t = np.linspace(0,1,vel_max_len)\n",
    "\n",
    "from enum import Enum\n",
    "\n",
    "class Running(Enum):\n",
    "    STOP = 0\n",
    "    GO = 1\n",
    "    PAD = 2\n",
    "running = Running.STOP\n",
    "\n",
    "vel_client = None\n",
    "ui_client = None"
   ]
  },
  {
   "cell_type": "markdown",
   "id": "209fbd78",
   "metadata": {},
   "source": [
    "## Widgets"
   ]
  },
  {
   "cell_type": "markdown",
   "id": "8fd69b4f",
   "metadata": {},
   "source": [
    "### Sliders"
   ]
  },
  {
   "cell_type": "code",
   "execution_count": 6,
   "id": "5bd639fd",
   "metadata": {},
   "outputs": [],
   "source": [
    "max_vel = 1.6\n",
    "lin_slider = FloatSlider(description='Linear Velocity', value=lin_init, min=0.1, max=max_vel, step=0.02)\n",
    "ang_slider = FloatSlider(description='Angular Velocity', value=ang_init, min=0.1, max=max_vel, step=0.02)\n",
    "\n",
    "v1=VBox([lin_slider, ang_slider])\n",
    "def lin_vel_change(vel):\n",
    "    vel_client(vel[\"new\"], vel_w_sim[-1])\n",
    "\n",
    "def ang_vel_change(vel):\n",
    "    vel_client(vel_x_sim[-1], vel[\"new\"])\n",
    "    \n",
    "lin_slider.observe(lin_vel_change, names='value')\n",
    "ang_slider.observe(ang_vel_change, names='value')"
   ]
  },
  {
   "cell_type": "markdown",
   "id": "6564e098",
   "metadata": {},
   "source": [
    "### Buttons"
   ]
  },
  {
   "cell_type": "code",
   "execution_count": 7,
   "id": "c9ce5763",
   "metadata": {},
   "outputs": [],
   "source": [
    "up_Button = Button(description='\\u2191', layout=Layout(width='auto',grid_area='up'),\n",
    "                  style=ButtonStyle(button_color='lightblue'))\n",
    "down_Button = Button(description='\\u2193', layout=Layout(width='auto',grid_area='down'),\n",
    "                  style=ButtonStyle(button_color='lightblue'))\n",
    "right_Button = Button(description='\\u2192', layout=Layout(width='auto',grid_area='right'),\n",
    "                  style=ButtonStyle(button_color='lightblue'))\n",
    "left_Button = Button(description='\\u2190', layout=Layout(width='auto',grid_area='left'),\n",
    "                  style=ButtonStyle(button_color='lightblue'))\n",
    "\n",
    "gb = GridBox(children=[up_Button, down_Button, right_Button, left_Button],\n",
    "            layout=Layout(\n",
    "                width='100%',\n",
    "                grid_template_row='auto auto',\n",
    "                grid_template_columns='33% 33% 33%',\n",
    "                grid_templates_areas='''\n",
    "                \".up\"\n",
    "                \"left down right\"\n",
    "                ''')\n",
    "            )"
   ]
  },
  {
   "cell_type": "code",
   "execution_count": 8,
   "id": "eae132d2",
   "metadata": {},
   "outputs": [],
   "source": [
    "start_Button = Button(description='START', layout=Layout(width='100%',grid_area='start'),\n",
    "                  style=ButtonStyle(button_color='lightblue'))\n",
    "stop_Button = Button(description='START', layout=Layout(width='100%',grid_area='start'),\n",
    "                  style=ButtonStyle(button_color='lightblue'))\n",
    "h1=HBox([start_Button,stop_Button])\n",
    "\n",
    "g_all = GridBox(children=[v1, h1, gb],\n",
    "            layout=Layout(\n",
    "                width='100%',\n",
    "                grid_template_row='auto auto',\n",
    "                grid_template_columns='33% 40% 27%',\n",
    "                grid_templates_areas='''\n",
    "                \"v1 . gb\"\n",
    "                \" . h1 .\"\n",
    "                ''')\n",
    "            )"
   ]
  },
  {
   "cell_type": "code",
   "execution_count": null,
   "id": "4666396c",
   "metadata": {},
   "outputs": [],
   "source": []
  }
 ],
 "metadata": {
  "kernelspec": {
   "display_name": "Python 3 (ipykernel)",
   "language": "python",
   "name": "python3"
  },
  "language_info": {
   "codemirror_mode": {
    "name": "ipython",
    "version": 3
   },
   "file_extension": ".py",
   "mimetype": "text/x-python",
   "name": "python",
   "nbconvert_exporter": "python",
   "pygments_lexer": "ipython3",
   "version": "3.8.5"
  }
 },
 "nbformat": 4,
 "nbformat_minor": 5
}
