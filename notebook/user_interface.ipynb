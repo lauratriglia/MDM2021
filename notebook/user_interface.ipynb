{
 "cells": [
  {
   "cell_type": "markdown",
   "id": "959a555e",
   "metadata": {},
   "source": [
    "# Rt2_assignment2"
   ]
  },
  {
   "cell_type": "markdown",
   "id": "6a72f678",
   "metadata": {},
   "source": [
    "Inside this notebook it is implemented an updated version of the user_interface which previously controlled the behavior of the robot. Each block is dedicated to a specific task and there are all described specifically. "
   ]
  },
  {
   "cell_type": "markdown",
   "id": "ccef4220",
   "metadata": {},
   "source": [
    "## How to run the code"
   ]
  },
  {
   "cell_type": "markdown",
   "id": "fd3aff72",
   "metadata": {},
   "source": [
    "After cloning the repository from [github](https://github.com/lauratriglia/rt2_assignment1), checkout on the branch \"doxy\". Once you're in the branch, two terminals are required. In the first one you have to run the simulation, writing the following command:\n",
    "``` \n",
    "roslaunch rt2_assignment1 sim.launch\n",
    "```\n",
    "In the second one, you need to start jupyter, writing the following command:\n",
    "```\n",
    "cd rt2_assignment1/notebook\n",
    "\n",
    "~rt2_assignment1/notebook/ jupyter notebook --allow-root\n",
    "```\n",
    "Once the notebook is open, run each block in order."
   ]
  },
  {
   "cell_type": "markdown",
   "id": "f133b3e5",
   "metadata": {},
   "source": [
    "## A brief explanation of the assignment"
   ]
  },
  {
   "cell_type": "markdown",
   "id": "b94fa411",
   "metadata": {},
   "source": [
    "The aim of this assignment was to update the version of the previous user_interface.py, adding buttons and sliders to control the behavior of the robot in term of modifying linear and angular velocities and its odometry. You will find in the _Control Panel_ sliders to control the linear and angular velocities, and also the start/stop buttons to see the robot moving. More description can be found in the dedicated cell. \n",
    "Beside controlling the behaviour of the robot, 4 different graphs will be shown:\n",
    "* **Position and orientation**: it shows the robot position and orientation\n",
    "* **Velocities**: it shows linear and angular velocities comparing the one that you can set with the slider and the real one that the robot has. \n",
    "* **Reached vs Cancelled**: it shows how many goals are reached and how many are cancelled\n",
    "* **Time to Reach Goal**: it shows how much time is needed to reached the goal"
   ]
  },
  {
   "cell_type": "markdown",
   "id": "9d45a810",
   "metadata": {},
   "source": [
    "# Code"
   ]
  },
  {
   "cell_type": "markdown",
   "id": "cf7658b4",
   "metadata": {},
   "source": [
    "### Libraries"
   ]
  },
  {
   "cell_type": "markdown",
   "id": "2b7083d8",
   "metadata": {},
   "source": [
    "In the following block all the necessary libraries are declared. "
   ]
  },
  {
   "cell_type": "code",
   "execution_count": 1,
   "id": "75b701bc",
   "metadata": {},
   "outputs": [],
   "source": [
    "import rospy\n",
    "import time\n",
    "import jupyros as jr\n",
    "import matplotlib\n",
    "import matplotlib.pyplot as plt\n",
    "plt.style.use('ggplot')\n",
    "import numpy as np \n",
    "import math\n",
    "import actionlib\n",
    "import actionlib.msg\n",
    "import ipywidgets as widgets\n",
    "from rt2_assignment1.srv import Command, SetVel\n",
    "from geometry_msgs.msg import Twist\n",
    "from nav_msgs.msg import Odometry\n",
    "\n",
    "\n",
    "%matplotlib widget\n",
    "from matplotlib.animation import FuncAnimation\n",
    "from matplotlib import animation, rc\n",
    "from std_msgs.msg import String, Float64, Bool, Float32\n",
    "from IPython.display import display\n",
    "from ipywidgets import Button, GridBox, Layout, ButtonStyle, FloatSlider, HBox, VBox\n",
    "from tf import transformations\n"
   ]
  },
  {
   "cell_type": "markdown",
   "id": "61908134",
   "metadata": {},
   "source": [
    "## Classes"
   ]
  },
  {
   "cell_type": "markdown",
   "id": "14df9d81",
   "metadata": {},
   "source": [
    "### ValuePlots"
   ]
  },
  {
   "cell_type": "markdown",
   "id": "2cde44d4",
   "metadata": {},
   "source": [
    "This class generates queues that has a fixed maximum size. THe scope of this class is to store all the most recent data necessary for the graphs."
   ]
  },
  {
   "cell_type": "code",
   "execution_count": 2,
   "id": "f659b7f5",
   "metadata": {},
   "outputs": [],
   "source": [
    "class ValuePlots(list):\n",
    "    def __init__(self, max_size, l=[]):\n",
    "        super().__init__(l)\n",
    "        self.max_size = max_size\n",
    "    def append(self, data):\n",
    "        super().append(data)\n",
    "        if super().__len__() > self.max_size:\n",
    "            super().pop(0)"
   ]
  },
  {
   "cell_type": "markdown",
   "id": "1999ce83",
   "metadata": {},
   "source": [
    "### Direction Pad"
   ]
  },
  {
   "cell_type": "markdown",
   "id": "b02586c2",
   "metadata": {},
   "source": [
    "This class is used to control the four directional buttons which are dedicated to control the behaviour of the robot "
   ]
  },
  {
   "cell_type": "code",
   "execution_count": 3,
   "id": "7730c6ee",
   "metadata": {},
   "outputs": [],
   "source": [
    "class DirectionPad:\n",
    "    def __init__(self, lin_slider, ang_slider):\n",
    "        self.vel_pub = rospy.Publisher('/cmd_vel', Twist, queue_size=1)\n",
    "        self.twist = Twist()\n",
    "        self.go_on_mov = 0.0\n",
    "        self.ang_mov = 0.0\n",
    "        self.lin_slider = lin_slider\n",
    "        self.ang_slider = ang_slider\n",
    "    \n",
    "    def goForward(self):\n",
    "        self.go_on_mov = 1.0\n",
    "        self.ang_mov = 0.0\n",
    "    def goBackward(self):\n",
    "        self.go_on_mov = -1.0\n",
    "        self.ang_mov = 0.0\n",
    "    def turnRight(self):\n",
    "        self.go_on_mov = 0.0\n",
    "        self.ang_mov = 1.0\n",
    "    def turnLeft(self):\n",
    "        self.go_on_mov = 0.0\n",
    "        self.ang_mov = -1.0\n",
    "    def stopping(self):\n",
    "        self.go_on_mov = 0.0\n",
    "        self.ang_mov = 0.0\n",
    "    \n",
    "    def pubTwist(self):\n",
    "        self.twist.linear.x = self.go_on_mov*lin_slider.value\n",
    "        self.twist.linear.z = self.ang_mov*ang_slider.value\n",
    "        \n",
    "        self.vel_pub.publish(self.twist)"
   ]
  },
  {
   "cell_type": "markdown",
   "id": "ece98daa",
   "metadata": {},
   "source": [
    "## Global variables"
   ]
  },
  {
   "cell_type": "code",
   "execution_count": 4,
   "id": "45ff6753",
   "metadata": {},
   "outputs": [],
   "source": [
    "output = widgets.Output()\n",
    "\n",
    "lin_init = 0.6\n",
    "ang_init = 0.6\n",
    "\n",
    "maxLen_odm = 2000\n",
    "odm_x = ValuePlots(maxLen_odm)\n",
    "odm_y = ValuePlots(maxLen_odm)\n",
    "odm_rot = 0\n",
    "\n",
    "velMax = 200\n",
    "vel_x_sim = ValuePlots(velMax, [lin_init]*velMax)\n",
    "vel_x_odom = ValuePlots(velMax, [0]*velMax)\n",
    "vel_w_sim = ValuePlots(velMax, [ang_init]*velMax)\n",
    "vel_w_odom = ValuePlots(velMax, [0]*velMax)\n",
    "\n",
    "t = np.linspace(0,1,velMax)\n",
    "\n",
    "from enum import Enum\n",
    "\n",
    "class RobotB(Enum):\n",
    "    STOP = 0\n",
    "    GO = 1\n",
    "    PAD = 2\n",
    "behavior = RobotB.STOP\n",
    "\n",
    "vel_client = None\n",
    "ui_client = None"
   ]
  },
  {
   "cell_type": "markdown",
   "id": "209fbd78",
   "metadata": {},
   "source": [
    "## Widgets"
   ]
  },
  {
   "cell_type": "markdown",
   "id": "8fd69b4f",
   "metadata": {},
   "source": [
    "### Sliders"
   ]
  },
  {
   "cell_type": "markdown",
   "id": "f0d0c122",
   "metadata": {},
   "source": [
    "Sliders are used to set the maximum velocities."
   ]
  },
  {
   "cell_type": "code",
   "execution_count": 5,
   "id": "5bd639fd",
   "metadata": {},
   "outputs": [],
   "source": [
    "max_vel = 1.6\n",
    "lin_slider = FloatSlider(description='Linear Velocity', value=lin_init, min=0.1, max=max_vel, step=0.02)\n",
    "ang_slider = FloatSlider(description='Angular Velocity', value=ang_init, min=0.1, max=max_vel, step=0.02)\n",
    "\n",
    "v1=VBox([lin_slider, ang_slider])\n",
    "def lin_vel_change(vel):\n",
    "    vel_client(vel[\"new\"], vel_w_sim[-1])\n",
    "\n",
    "def ang_vel_change(vel):\n",
    "    vel_client(vel_x_sim[-1], vel[\"new\"])\n",
    "    \n",
    "lin_slider.observe(lin_vel_change, names='value')\n",
    "ang_slider.observe(ang_vel_change, names='value')"
   ]
  },
  {
   "cell_type": "markdown",
   "id": "6564e098",
   "metadata": {},
   "source": [
    "### Buttons"
   ]
  },
  {
   "cell_type": "markdown",
   "id": "9e20d21c",
   "metadata": {},
   "source": [
    "In this cell all the buttons are initiliazed, both the arrow ones and the start/stop. "
   ]
  },
  {
   "cell_type": "code",
   "execution_count": 12,
   "id": "c9ce5763",
   "metadata": {},
   "outputs": [],
   "source": [
    "up_Button = Button(description='\\u2191', \n",
    "                  layout=Layout(width='auto', grid_area='up'),\n",
    "                  style=ButtonStyle(button_color='lightblue'))\n",
    "down_Button = Button(description='\\u2193',\n",
    "                  layout=Layout(width='auto', grid_area='down'),\n",
    "                  style=ButtonStyle(button_color='lightblue'))\n",
    "right_Button = Button(description='\\u2192', \n",
    "                  layout=Layout(width='auto', grid_area='right'),\n",
    "                  style=ButtonStyle(button_color='lightblue'))\n",
    "left_Button = Button(description='\\u2190', \n",
    "                  layout=Layout(width='auto', grid_area='left'),\n",
    "                  style=ButtonStyle(button_color='lightblue'))\n",
    "\n",
    "\n",
    "gridButtons = GridBox(children=[up_Button, down_Button, right_Button, left_Button],\n",
    "        layout=Layout(\n",
    "            width='100%',\n",
    "            grid_template_rows='auto auto',\n",
    "            grid_template_columns='33% 33% 33%',\n",
    "            grid_template_areas='''\n",
    "            \". up .\"\n",
    "            \"left down right\"\n",
    "            ''')\n",
    "        )\n",
    "\n",
    "start_Button = Button(description='START', layout=Layout(width='100%',grid_area='start'),\n",
    "                  style=ButtonStyle(button_color='lightblue'))\n",
    "stop_Button = Button(description='STOP', layout=Layout(width='100%',grid_area='stop'),\n",
    "                  style=ButtonStyle(button_color='lightblue'))\n",
    "h1=HBox([start_Button,stop_Button])\n",
    "\n",
    "gridAll = GridBox(children=[v1, h1, gridButtons],\n",
    "            layout=Layout(\n",
    "                width='100%',\n",
    "                grid_template_row='auto auto',\n",
    "                grid_template_columns='33% 40% 27%',\n",
    "                grid_templates_areas='''\n",
    "                \"v1 . gridButtons\"\n",
    "                \" . h1 .\"\n",
    "                ''')\n",
    "            )"
   ]
  },
  {
   "cell_type": "markdown",
   "id": "89dc5536",
   "metadata": {},
   "source": [
    "## Functions"
   ]
  },
  {
   "cell_type": "code",
   "execution_count": 13,
   "id": "9b215086",
   "metadata": {},
   "outputs": [],
   "source": [
    "dir_pad = DirectionPad(lin_slider, ang_slider)\n",
    "\n",
    "def start_gotopoint(b):\n",
    "    global behavior\n",
    "    if behavior != RobotB.GO:\n",
    "        ui_client(\"start\")\n",
    "        behavior = RobotB.GO\n",
    "\n",
    "def stop_motion(b):\n",
    "    global behavior\n",
    "    if behavior == RobotB.GO:\n",
    "        ui_client(\"stop\")\n",
    "    elif behavior == RobotB.PAD:\n",
    "        dir_pad.stop()\n",
    "        dir_pad.pubTwist()\n",
    "        \n",
    "    behavior = RobotB.STOP\n",
    "\n",
    "def  directionalButton(b):\n",
    "    global behavior\n",
    "    if behavior == RobotB.GO:\n",
    "        stop_motion(b)\n",
    "    if b.layout.grid_area == 'up':\n",
    "        dir_pad.goForward()\n",
    "    elif b.layout.grid_area == 'down':\n",
    "        dir_pad.goBackward()\n",
    "    elif b.layout.grid_area == 'right':\n",
    "        dir_pad.turnRight()\n",
    "    elif b.layout.grid_area == 'left':\n",
    "        dir_pad.turnLeft()\n",
    "    else:\n",
    "        return \n",
    "\n",
    "    behavior = RobotB.PAD\n",
    "\n",
    "def odomFunction(msg):\n",
    "    global odm_rot, odm_x, odm_y\n",
    "    \n",
    "    global behavior\n",
    "    odm_x.append(msg.pose.pose.position.x)\n",
    "    odm_y.append(msg.pose.pose.position.y)\n",
    "    \n",
    "    quaternion = (\n",
    "        msg.pose.pose.orientation.x,\n",
    "        msg.pose.pose.orientation.y,\n",
    "        msg.pose.pose.orientation.z,\n",
    "        msg.pose.pose.orientation.w)\n",
    "    euler = transformations.euler_from_quaternion(quaternion)\n",
    "    odm_rot = euler[2]\n",
    "    \n",
    "    vel_x_sim.append(lin_slider.value)\n",
    "    vel_x_odom.append(msg.twist.twist.linear.x)\n",
    "    \n",
    "    vel_w_sim.append(ang_slider.value)\n",
    "    vel_w_odom.append(msg.twist.twist.angular.x)\n",
    "    \n",
    "    if behavior == RobotB.PAD:\n",
    "        dir_pad.pubTwist()"
   ]
  },
  {
   "cell_type": "markdown",
   "id": "d47f73b5",
   "metadata": {},
   "source": [
    "### Buttons binding"
   ]
  },
  {
   "cell_type": "code",
   "execution_count": 14,
   "id": "d8e03aab",
   "metadata": {},
   "outputs": [],
   "source": [
    "start_Button.on_click(start_gotopoint)\n",
    "stop_Button.on_click(stop_motion)\n",
    "up_Button.on_click(directionalButton)\n",
    "down_Button.on_click(directionalButton)\n",
    "left_Button.on_click(directionalButton)\n",
    "right_Button.on_click(directionalButton)"
   ]
  },
  {
   "cell_type": "markdown",
   "id": "cce00562",
   "metadata": {},
   "source": [
    "## Ros node start"
   ]
  },
  {
   "cell_type": "code",
   "execution_count": 15,
   "id": "609061e9",
   "metadata": {},
   "outputs": [],
   "source": [
    "rospy.init_node(\"jupyter_interface\")\n",
    "\n",
    "sub = rospy.Subscriber('/odom', Odometry, odomFunction)\n",
    "\n",
    "rospy.wait_for_service('/user_interface')\n",
    "ui_client = rospy.ServiceProxy('/user_interface', Command)\n",
    "rospy.wait_for_service('/set_vel')\n",
    "vel_client = rospy.ServiceProxy('/set_vel', SetVel)"
   ]
  },
  {
   "cell_type": "markdown",
   "id": "31deee65",
   "metadata": {},
   "source": [
    "## Control panel"
   ]
  },
  {
   "cell_type": "code",
   "execution_count": 16,
   "id": "5207c35e",
   "metadata": {},
   "outputs": [
    {
     "data": {
      "application/vnd.jupyter.widget-view+json": {
       "model_id": "5c2ee85685134fa9822a6eb08ac96712",
       "version_major": 2,
       "version_minor": 0
      },
      "text/plain": [
       "GridBox(children=(VBox(children=(FloatSlider(value=0.6, description='Linear Velocity', max=1.6, min=0.1, step=…"
      ]
     },
     "metadata": {},
     "output_type": "display_data"
    },
    {
     "data": {
      "application/vnd.jupyter.widget-view+json": {
       "model_id": "ed8fe178a56d48cfade225b6f1400c6e",
       "version_major": 2,
       "version_minor": 0
      },
      "text/plain": [
       "Output()"
      ]
     },
     "metadata": {},
     "output_type": "display_data"
    }
   ],
   "source": [
    "display(gridAll)\n",
    "output"
   ]
  },
  {
   "cell_type": "code",
   "execution_count": 17,
   "id": "ed44d7b9",
   "metadata": {},
   "outputs": [],
   "source": [
    "from rt2_assignment1.msg import PoseActionResult\n",
    "number_goal={'succ':0,'canc':0}\n",
    "time_goal=0\n",
    "\n",
    "def goalCallBack(msg):\n",
    "    global number_goal\n",
    "    if msg.result.effect:\n",
    "        number_goal['succ']+=1\n",
    "        duration = msg.header.stamp - msg.status.goal_id.stamp\n",
    "        time_goal.append(duration.to_sec())\n",
    "    else:\n",
    "        number_goal['canc']+=1\n",
    "    \n",
    "goal_sub= rospy.Subscriber('/go_to_point/result', PoseActionResult, goalCallBack)\n",
    "    "
   ]
  },
  {
   "cell_type": "markdown",
   "id": "8e112dc5",
   "metadata": {},
   "source": [
    "# Plots"
   ]
  },
  {
   "cell_type": "markdown",
   "id": "181f3770",
   "metadata": {},
   "source": [
    "## Position and orientation"
   ]
  },
  {
   "cell_type": "code",
   "execution_count": 23,
   "id": "47687611",
   "metadata": {},
   "outputs": [
    {
     "data": {
      "application/vnd.jupyter.widget-view+json": {
       "model_id": "8fe10975a585461993c6584ae2b85541",
       "version_major": 2,
       "version_minor": 0
      },
      "text/plain": [
       "Canvas(toolbar=Toolbar(toolitems=[('Home', 'Reset original view', 'home', 'home'), ('Back', 'Back to previous …"
      ]
     },
     "metadata": {},
     "output_type": "display_data"
    }
   ],
   "source": [
    "fig, ax = plt.subplots()\n",
    "\n",
    "ax.set_xlim((-6, 6))\n",
    "ax.set_ylim((-6, 6))\n",
    "\n",
    "odom_plt, = ax.plot([], [], 'g-')\n",
    "arrw_plt, = ax.plot([], [], 'b-.', linewidth=2.5)\n",
    "arrw_len_ = 0.7\n",
    "\n",
    "ax.set_title(\"Position and orientation of the robot\")\n",
    "ax.set_xlabel(\"X\")\n",
    "ax.set_ylabel(\"Y\")\n",
    "\n",
    "def init():\n",
    "    odom_plt.set_data([], [])\n",
    "    arrw_plt.set_data([], [])\n",
    "    return (odom_plt, arrw_plt)\n",
    "\n",
    "def animate(i):\n",
    "    odom_plt.set_data(odm_x, odm_y)\n",
    "    n_x = odm_x[-1] + math.cos(odm_rot)*arrw_len_\n",
    "    n_y = odm_y[-1] + math.sin(odm_rot)*arrw_len_\n",
    "    \n",
    "    arrw_plt.set_data((odm_x[-1], n_x), (odm_y[-1], n_y))\n",
    "    \n",
    "    return (odom_plt, arrw_plt)\n",
    "\n",
    "anim1 = animation.FuncAnimation(fig, animate, init_func = init, frames=50, interval=20, blit=True)"
   ]
  },
  {
   "cell_type": "markdown",
   "id": "160575d3",
   "metadata": {},
   "source": [
    "## Velocities"
   ]
  },
  {
   "cell_type": "code",
   "execution_count": 24,
   "id": "c86b5877",
   "metadata": {},
   "outputs": [
    {
     "data": {
      "application/vnd.jupyter.widget-view+json": {
       "model_id": "1f56cb76c759459a9915a27ce5ee5350",
       "version_major": 2,
       "version_minor": 0
      },
      "text/plain": [
       "Canvas(toolbar=Toolbar(toolitems=[('Home', 'Reset original view', 'home', 'home'), ('Back', 'Back to previous …"
      ]
     },
     "metadata": {},
     "output_type": "display_data"
    }
   ],
   "source": [
    "fig_vel, axs = plt.subplots(nrows=2)\n",
    "\n",
    "ax0, ax1 = axs.flatten()\n",
    "ax0.set_title(\"Linear velocity\")\n",
    "ax0.set_ylim(0.0, max_vel)\n",
    "ax0.set_xticks([])\n",
    "\n",
    "vel_x_plt_sim, = ax0.plot([], [], 'r', label='max linear velocity')\n",
    "vel_x_plt_odm, = ax0.plot([], [], 'g', label='current linear velocity', linewidth=2.0)\n",
    "\n",
    "ax1.set_title(\"Angular velocity\")\n",
    "ax1.set_ylim(0.0, max_vel)\n",
    "ax1.set_xticks([])\n",
    "\n",
    "vel_w_plt_sim, = ax1.plot([], [], 'r', label='max angular velocity')\n",
    "vel_w_plt_odm, = ax1.plot([], [], 'g', label='current angular velocity', linewidth=2.0)\n",
    "\n",
    "\n",
    "def init_vel():\n",
    "    vel_x_plt_sim.set_data([], [])\n",
    "    vel_x_plt_odm.set_data([], [])\n",
    "    \n",
    "    vel_w_plt_sim.set_data([], [])\n",
    "    vel_w_plt_odm.set_data([], [])\n",
    "    return (vel_x_plt_sim, vel_x_plt_odm, vel_w_plt_sim, vel_w_plt_odm)\n",
    "\n",
    "def animate_vel(i):\n",
    "    vel_x_plt_sim.set_data(t, vel_x_sim)\n",
    "    vel_x_plt_odm.set_data(t, vel_x_odom)\n",
    "    \n",
    "    vel_w_plt_sim.set_data(t, vel_w_sim)\n",
    "    vel_w_plt_odm.set_data(t, vel_w_odom)\n",
    "    \n",
    "    return (vel_x_plt_sim, vel_x_plt_odm, vel_w_plt_sim, vel_w_plt_odm)\n",
    "\n",
    "anim_vel = animation.FuncAnimation(fig_vel, animate_vel, init_func = init_vel, frames=100, interval=20, blit=True)\n",
    "\n"
   ]
  },
  {
   "cell_type": "markdown",
   "id": "40c2c694",
   "metadata": {},
   "source": [
    "## Reached vs Cancelled"
   ]
  },
  {
   "cell_type": "code",
   "execution_count": 25,
   "id": "74135412",
   "metadata": {},
   "outputs": [
    {
     "data": {
      "application/vnd.jupyter.widget-view+json": {
       "model_id": "f7b84ff0e197473d96f5f60e5d739409",
       "version_major": 2,
       "version_minor": 0
      },
      "text/plain": [
       "Canvas(toolbar=Toolbar(toolitems=[('Home', 'Reset original view', 'home', 'home'), ('Back', 'Back to previous …"
      ]
     },
     "metadata": {},
     "output_type": "display_data"
    }
   ],
   "source": [
    "fig_bar, ax_bar = plt.subplots()\n",
    "\n",
    "ax_bar.set_title(\"Reached vs Cancelled goals\")\n",
    "ax_bar.set_ylim(0, 50)\n",
    "\n",
    "ind = np.array(['Reached','Cancelled'])\n",
    "\n",
    "bar_plt = ax_bar.bar(ind, [0,0], width=0.3)\n",
    "\n",
    "def init_bar():\n",
    "    for bb, ii, col in zip(bar_plt, number_goal.values(), ('g', 'b')):\n",
    "        bb.set_height(ii)\n",
    "        bb.set_color(col)\n",
    "    return (bar_plt,)\n",
    "\n",
    "def animate_bar(i):\n",
    "    for bb, ii in zip(bar_plt, number_goal.values()):\n",
    "        bb.set_height(ii)\n",
    "    \n",
    "    return (bar_plt,)\n",
    "\n",
    "anim_bar = animation.FuncAnimation(fig_bar, animate_bar, init_func = init_bar, frames=100, interval=20, blit=True)\n",
    "\n",
    "\n"
   ]
  },
  {
   "cell_type": "markdown",
   "id": "7ac433c1",
   "metadata": {},
   "source": [
    "## Time to reach"
   ]
  },
  {
   "cell_type": "code",
   "execution_count": 21,
   "id": "b3556775",
   "metadata": {},
   "outputs": [
    {
     "data": {
      "application/vnd.jupyter.widget-view+json": {
       "model_id": "367359149750432183eac004972fe735",
       "version_major": 2,
       "version_minor": 0
      },
      "text/plain": [
       "Canvas(toolbar=Toolbar(toolitems=[('Home', 'Reset original view', 'home', 'home'), ('Back', 'Back to previous …"
      ]
     },
     "metadata": {},
     "output_type": "display_data"
    }
   ],
   "source": [
    "fig_time, ax_time = plt.subplots()\n",
    "\n",
    "ax_time.set_title(\"Time to reach the goal\")\n",
    "\n",
    "ax_time.set_xlabel(\"time\")\n",
    "ax_time.set_ylabel(\"goals\")\n",
    "ax_time.set_ylim((0, 5))\n",
    "ax_time.set_xlim((0, 40))\n",
    "\n",
    "n_bins = 10;\n",
    "time_plt, _, _ = ax_time.hist([], bins=n_bins, align='mid')\n",
    "\n",
    "def animate_time(i):\n",
    "    ax_time.cla()\n",
    "    ax_time.set_title(\"Time to reach the goal\")\n",
    "\n",
    "    ax_time.set_xlabel(\"time\")\n",
    "    ax_time.set_ylabel(\"goals\")\n",
    "    ax_time.set_ylim((0, 5))\n",
    "    ax_time.set_xlim((0, 40))\n",
    "    time_plt, _, _ = ax_time.hist(goal_time, bins=n_bins, align='mid')\n",
    "    return (time_plt,)\n",
    "\n",
    "anim_time = animation.FuncAnimation(fig_time, animate_time, frames=100, interval=200, blit=True)\n",
    "\n"
   ]
  },
  {
   "cell_type": "code",
   "execution_count": null,
   "id": "204d9440",
   "metadata": {},
   "outputs": [],
   "source": []
  }
 ],
 "metadata": {
  "kernelspec": {
   "display_name": "Python 3 (ipykernel)",
   "language": "python",
   "name": "python3"
  },
  "language_info": {
   "codemirror_mode": {
    "name": "ipython",
    "version": 3
   },
   "file_extension": ".py",
   "mimetype": "text/x-python",
   "name": "python",
   "nbconvert_exporter": "python",
   "pygments_lexer": "ipython3",
   "version": "3.8.5"
  }
 },
 "nbformat": 4,
 "nbformat_minor": 5
}
