{
 "cells": [
  {
   "cell_type": "markdown",
   "id": "6de65ed0",
   "metadata": {},
   "source": [
    "# Rt2_assignment2 \n",
    "## How to run the code\n",
    "To see all the implementations done with jupyter notebook it is only necessary to run in the folder selected:\n",
    "``\n",
    " roslaunch rt2_assignment1 sim.launch\n",
    "``\n"
   ]
  },
  {
   "cell_type": "markdown",
   "id": "4a45cf00",
   "metadata": {},
   "source": [
    "### Headers\n"
   ]
  },
  {
   "cell_type": "code",
   "execution_count": null,
   "id": "c702130a",
   "metadata": {},
   "outputs": [],
   "source": [
    "%matplotlib widget\n",
    "\n",
    "import matplotlib as mpl\n",
    "import matplotlib.pyplot as plt\n",
    "plt.style.use('ggpolt')\n",
    "\n",
    "from matplotlib import animation\n",
    "\n",
    "import ipywidgets as widgets\n",
    "from ipywidgets import Button, GridBox, Layout, ButtonStyle, FloatSlider, HBox, VBox\n",
    "\n",
    "import rospy \n",
    "from geometry_msgs.msg import Twist\n",
    "from nav_msgs.msg import Odometry\n",
    "from rt2_assignment1.srv import Command, SetVel\n",
    "\n",
    "from IPython.display import display\n",
    "\n",
    "import numpy as np \n",
    "import math\n",
    "\n",
    "from tf import transformations"
   ]
  },
  {
   "cell_type": "markdown",
   "id": "785ad3c9",
   "metadata": {},
   "source": [
    "### Global Variables"
   ]
  },
  {
   "cell_type": "code",
   "execution_count": null,
   "id": "580164bd",
   "metadata": {},
   "outputs": [],
   "source": []
  },
  {
   "cell_type": "markdown",
   "id": "5bb6d377",
   "metadata": {},
   "source": [
    "### Direction Pad"
   ]
  },
  {
   "cell_type": "code",
   "execution_count": null,
   "id": "00390aa9",
   "metadata": {},
   "outputs": [],
   "source": []
  }
 ],
 "metadata": {
  "kernelspec": {
   "display_name": "Python 3 (ipykernel)",
   "language": "python",
   "name": "python3"
  },
  "language_info": {
   "codemirror_mode": {
    "name": "ipython",
    "version": 3
   },
   "file_extension": ".py",
   "mimetype": "text/x-python",
   "name": "python",
   "nbconvert_exporter": "python",
   "pygments_lexer": "ipython3",
   "version": "3.8.5"
  }
 },
 "nbformat": 4,
 "nbformat_minor": 5
}
